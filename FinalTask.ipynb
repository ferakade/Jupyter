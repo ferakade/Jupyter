{
 "cells": [
  {
   "cell_type": "markdown",
   "id": "7958f03c-67d9-4865-a379-979a8b0adc0e",
   "metadata": {},
   "source": [
    "# My Jupyter Notebook on IBM Watson Studio\n"
   ]
  },
  {
   "cell_type": "markdown",
   "id": "2f456da7-3617-4402-98cd-e25477ef515d",
   "metadata": {},
   "source": [
    "**Fernando Meira** \n",
    "\n",
    "Biomedical Engineer"
   ]
  },
  {
   "cell_type": "markdown",
   "id": "d136c59a-2825-4dc6-bcc0-d2754ad0fb06",
   "metadata": {},
   "source": [
    "*I am interested in data science to improve people´s lives... and mine.* "
   ]
  },
  {
   "cell_type": "markdown",
   "id": "f4dd0518-f128-4b95-9012-c6a40d076446",
   "metadata": {
    "tags": []
   },
   "source": [
    "### The following code simulates a generala´s play"
   ]
  },
  {
   "cell_type": "code",
   "execution_count": 17,
   "id": "de6dc4dc-5b0a-454b-878e-3d19040702f4",
   "metadata": {},
   "outputs": [
    {
     "name": "stdout",
     "output_type": "stream",
     "text": [
      "4\n",
      "5\n",
      "4\n",
      "2\n",
      "4\n"
     ]
    }
   ],
   "source": [
    "from random import *\n",
    "for i in range(5):\n",
    "   print(randint(1,6))"
   ]
  },
  {
   "cell_type": "markdown",
   "id": "3ab08cc7-65d0-4dc6-aeb5-e4286c21d709",
   "metadata": {},
   "source": [
    "![alt text](https://encrypted-tbn0.gstatic.com/images?q=tbn:ANd9GcQlQ2QH_7bZEhTcb2AmjwHREfNc3LgVPD-umw&usqp=CAU) \n",
    "\n",
    "* Uno\n",
    "* Dois\n",
    "* Trois\n",
    "\n",
    "| Spanish       | English       |\n",
    "| ------------- |:-------------:|\n",
    "| Hola          | Hi            |\n",
    "| Queso         | Cheese        |\n",
    "| Linterna      | Flashlight    |\n",
    "\n"
   ]
  },
  {
   "cell_type": "code",
   "execution_count": null,
   "id": "365c0b3f-1a77-4408-b4f5-a036533ef937",
   "metadata": {},
   "outputs": [],
   "source": []
  }
 ],
 "metadata": {
  "kernelspec": {
   "display_name": "Python",
   "language": "python",
   "name": "conda-env-python-py"
  },
  "language_info": {
   "codemirror_mode": {
    "name": "ipython",
    "version": 3
   },
   "file_extension": ".py",
   "mimetype": "text/x-python",
   "name": "python",
   "nbconvert_exporter": "python",
   "pygments_lexer": "ipython3",
   "version": "3.7.12"
  }
 },
 "nbformat": 4,
 "nbformat_minor": 5
}
